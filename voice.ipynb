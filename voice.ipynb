{
 "cells": [
  {
   "cell_type": "code",
   "execution_count": 1,
   "metadata": {},
   "outputs": [],
   "source": [
    "import speech_recognition as sr"
   ]
  },
  {
   "cell_type": "code",
   "execution_count": 6,
   "metadata": {},
   "outputs": [],
   "source": [
    "sr.__version__\n",
    "r = sr.Recognizer()"
   ]
  },
  {
   "cell_type": "code",
   "execution_count": 7,
   "metadata": {},
   "outputs": [],
   "source": [
    "harvard = sr.AudioFile('OSR_us_000_0010_8k.wav')"
   ]
  },
  {
   "cell_type": "code",
   "execution_count": 8,
   "metadata": {},
   "outputs": [],
   "source": [
    "with harvard as source:\n",
    "    audio = r.record(source)"
   ]
  },
  {
   "cell_type": "code",
   "execution_count": 9,
   "metadata": {},
   "outputs": [
    {
     "data": {
      "text/plain": [
       "speech_recognition.AudioData"
      ]
     },
     "execution_count": 9,
     "metadata": {},
     "output_type": "execute_result"
    }
   ],
   "source": [
    "type(audio)"
   ]
  },
  {
   "cell_type": "code",
   "execution_count": null,
   "metadata": {},
   "outputs": [],
   "source": [
    "global p"
   ]
  },
  {
   "cell_type": "code",
   "execution_count": 11,
   "metadata": {},
   "outputs": [],
   "source": [
    "p=r.recognize_google(audio)"
   ]
  },
  {
   "cell_type": "code",
   "execution_count": 12,
   "metadata": {},
   "outputs": [
    {
     "name": "stdout",
     "output_type": "stream",
     "text": [
      "The Purge can use within The Smurfs the sheet without playback Mount delivery date habitat of a Vow these days it's okay microwave devices are installed in Windows to use of lemons next find the password on the site that the houses such hard core in a garbage for the study core exercises talking is hard disk\n"
     ]
    }
   ],
   "source": [
    "print(p)"
   ]
  },
  {
   "cell_type": "code",
   "execution_count": 21,
   "metadata": {},
   "outputs": [],
   "source": [
    "# send Mail \n",
    "\n",
    "import smtplib\n",
    "from string import Template\n",
    "\n",
    "from email.mime.multipart import MIMEMultipart\n",
    "from email.mime.text import MIMEText\n",
    "from string import Template\n"
   ]
  },
  {
   "cell_type": "code",
   "execution_count": 15,
   "metadata": {},
   "outputs": [],
   "source": [
    "MY_ADDRESS = 'souravtest01@gmail.com'\n",
    "PASSWORD = 'test2222'"
   ]
  },
  {
   "cell_type": "code",
   "execution_count": 20,
   "metadata": {},
   "outputs": [],
   "source": [
    "def get_contacts(filename):\n",
    "    \"\"\"\n",
    "    Return two lists names, emails containing names and email addresses\n",
    "    read from a file specified by filename.\n",
    "    \"\"\"\n",
    "    \n",
    "    names = []\n",
    "    emails = []\n",
    "    with open(filename, mode='r', encoding='utf-8') as contacts_file:\n",
    "        for a_contact in contacts_file:\n",
    "            names.append(a_contact.split()[0])\n",
    "            emails.append(a_contact.split()[1])\n",
    "    return names, emails"
   ]
  },
  {
   "cell_type": "code",
   "execution_count": 22,
   "metadata": {},
   "outputs": [],
   "source": [
    "def read_template(filename):\n",
    "    with open(filename, 'r', encoding='utf-8') as template_file:\n",
    "        template_file_content = template_file.read()\n",
    "    return Template(template_file_content)"
   ]
  },
  {
   "cell_type": "code",
   "execution_count": 26,
   "metadata": {},
   "outputs": [],
   "source": [
    "message_template = read_template('message.txt')"
   ]
  },
  {
   "cell_type": "code",
   "execution_count": 30,
   "metadata": {},
   "outputs": [],
   "source": []
  },
  {
   "cell_type": "code",
   "execution_count": 31,
   "metadata": {},
   "outputs": [
    {
     "data": {
      "text/plain": [
       "\"Dear Mrinmoy, \\n\\nThe Purge can use within The Smurfs the sheet without playback Mount delivery date habitat of a Vow these days it's okay microwave devices are installed in Windows to use of lemons next find the password on the site that the houses such hard core in a garbage for the study core exercises talking is hard disk\\nYours Truly\\nAzure\""
      ]
     },
     "execution_count": 31,
     "metadata": {},
     "output_type": "execute_result"
    }
   ],
   "source": [
    "message"
   ]
  },
  {
   "cell_type": "code",
   "execution_count": 37,
   "metadata": {},
   "outputs": [
    {
     "name": "stdout",
     "output_type": "stream",
     "text": [
      "Dear Mrinmoy, \n",
      "\n",
      "The Purge can use within The Smurfs the sheet without playback Mount delivery date habitat of a Vow these days it's okay microwave devices are installed in Windows to use of lemons next find the password on the site that the houses such hard core in a garbage for the study core exercises talking is hard disk\n",
      "Yours Truly\n",
      "Azure\n",
      "Dear Sourav, \n",
      "\n",
      "The Purge can use within The Smurfs the sheet without playback Mount delivery date habitat of a Vow these days it's okay microwave devices are installed in Windows to use of lemons next find the password on the site that the houses such hard core in a garbage for the study core exercises talking is hard disk\n",
      "Yours Truly\n",
      "Azure\n"
     ]
    }
   ],
   "source": [
    "def main():\n",
    "    names, emails = get_contacts('contact.txt') # read contacts\n",
    "    message_template = read_template('message.txt')\n",
    "\n",
    "    # set up the SMTP server\n",
    "    s = smtplib.SMTP('smtp.gmail.com',587)\n",
    "    s.starttls()\n",
    "    s.login(MY_ADDRESS, PASSWORD)\n",
    "\n",
    "    # For each contact, send the email:\n",
    "    for name, email in zip(names, emails):\n",
    "        msg = MIMEMultipart()       # create a message\n",
    "\n",
    "        # add in the actual person name to the message template\n",
    "        message = message_template.substitute(PERSON_NAME=name.title(), text = str(p) )\n",
    "\n",
    "        # Prints out the message body for our sake\n",
    "        print(message)\n",
    "\n",
    "        # setup the parameters of the message\n",
    "        msg['From']=MY_ADDRESS\n",
    "        msg['To']=email\n",
    "        msg['Subject']=\"This is TEST\"\n",
    "        \n",
    "        # add in the message body\n",
    "        msg.attach(MIMEText(message, 'plain'))\n",
    "        \n",
    "        # send the message via the server set up earlier.\n",
    "        s.send_message(msg)\n",
    "        del msg\n",
    "        \n",
    "    # Terminate the SMTP session and close the connection\n",
    "    s.quit()\n",
    "    \n",
    "if __name__ == '__main__':\n",
    "    main()"
   ]
  },
  {
   "cell_type": "code",
   "execution_count": null,
   "metadata": {},
   "outputs": [],
   "source": []
  }
 ],
 "metadata": {
  "kernelspec": {
   "display_name": "Python 3",
   "language": "python",
   "name": "python3"
  },
  "language_info": {
   "codemirror_mode": {
    "name": "ipython",
    "version": 3
   },
   "file_extension": ".py",
   "mimetype": "text/x-python",
   "name": "python",
   "nbconvert_exporter": "python",
   "pygments_lexer": "ipython3",
   "version": "3.6.6"
  }
 },
 "nbformat": 4,
 "nbformat_minor": 2
}
